{
 "cells": [
  {
   "cell_type": "markdown",
   "metadata": {},
   "source": [
    "# Problemas de Estimativa"
   ]
  },
  {
   "cell_type": "markdown",
   "metadata": {},
   "source": [
    "## Introdução\n",
    "\n",
    "Para trabalhar com dados um especialista (seja cientista ou engenheiro de dados) deve conhecer a parte descritiva da Estatística  (que trata, em linhas gerais, das medidas de centralidade e variabilidade), mas também deve entender de **inferência**.\n",
    "\n",
    "Uma explicação superficial (e nada formal) a respeito da Inferência é que este ramo trata a respeito de conclusões a partir dos dados disponíveis. Tais conclusões consideram dois aspectos importantes:\n",
    "* Que os dados disponíveis representam amostras da população\n",
    "* Que os dados consideram a existência de variabilidade natural\n",
    "\n",
    "Caso esteja trabalhando com dados de uma amostra então fazer inferências é essencial para o trabalho do especialista. Isto se deve ao fato de ter apenas um extrato dos dados, algumas incertezas e imprecisões que nos levam a ter um resultado mais probabilístico e menos determinístico.\n",
    "\n",
    "Para compreender esse tema é necessario um conhecimento sobre os seguintes assuntos:\n",
    "* **Média** (como medida de central)\n",
    "* **Variância e desvio padrão** (como medidas de dispersão)\n",
    "* **Distribuições** (dentre elas a Distribuição Normal, Distribuição de Poisson e Distribuição Binomial)\n",
    "\n",
    "Os principais temas abordados são:\n",
    "* Problemas de estimativa (por exenplo intervalos de confiança)\n",
    "* Testes de hipóteses\n",
    "\n",
    "Para estes temas o objetivo é trazer exemplos que envolvem o uso de **médias** e **proporções**.\n",
    "\n",
    "Este material será seguido de exemplos para que o especialista materialize melhor as explicaçãoes. Além disso, usaremos o Python como a linguagem de programação para o exercicio destes exemplos.\n",
    "\n",
    "Outro ponto importante é que ao longo deste material vamos considerar que temos disponivel **apenas dados amostras sem nenhum tipo de viés ou erro sistemático de extração**.\n",
    "\n"
   ]
  },
  {
   "cell_type": "markdown",
   "metadata": {},
   "source": [
    "## Estimando com confiança\n",
    "Normalmente quando recebemos um conjunto de dados com variáveis (ou features) quantitativas executamos o trabalho de analisar casos faltantes (missing), outiers e algumas tarefas mais descritivas (como moda, mediana e média). Além disso, buscamos entender a variabilidade dos dados a partir da variância e do desvio padrão.\n",
    "\n",
    "A média destes dados deve ser chamada **média amostral** ($\\bar{x}$) e é um estimador natural da média da população ($\\mu$) que, geralmente é desconhecida. \n",
    "\n",
    "Um fato importante é que se recebermos uma nova amostra, muito provalvemente, a média deve ter um número diferente da amostra anterior. Consequentemente sucessivas amostras resultarão em médias que podem não ser exatamente iguais."
   ]
  },
  {
   "cell_type": "markdown",
   "metadata": {},
   "source": [
    "### Intervalos de confiança\n",
    "Para minimizar esse efeito trabalhamos com um **intervalo de confiança de nivel C** composto por:\n",
    "* Um intervalo calculado que considera: **margem_erro - estimativa + margem_erro**, sendo estimativa, por exemplo, nossa média.\n",
    "* Um nível de confiança (no caso C) que fornece a probabilidade de que a verdadeira média populacional estará nesse intervalo se usássemos repetidas amostras.\n",
    "\n",
    "Um entendimento sobre distribuições normais, desvio padrão populacional, teorema do limite central e grandes amostras é essencial para a compreensão destes conceitos. A priori considere que grandes amostras representam conjuntos de dados com 30 ou mais casos. Quando isso acontece podemos substituir o desvio padrão populacional ($\\sigma$) pelo desvio padrão amostral (s). \n",
    "\n",
    "### Intervalo de confiança para uma média populacional\n",
    "Para trabalhar com intervalos de confiança precisamos estabelecer a relação entre a confiança de nivel C e um valor crítico (z*).\n",
    "\n",
    "|C  |   90% |   95% |   99% |\n",
    "|---|-------|-------|-------|\n",
    "|z* | 1,645 | 1,960 | 2,576 |\n",
    "\n",
    "Com estes dados é possivel definir a margem de erro:\n",
    "$$\n",
    "z^* \\times \\frac{\\sigma}{\\sqrt{n}}\n",
    "$$\n",
    "E o intervalo de confiança>\n",
    "\n",
    "$$\n",
    "(z^* \\times \\frac{\\sigma}{\\sqrt{n}}) + \\bar{x} - (z^* \\times \\frac{\\sigma}{\\sqrt{n}})\n",
    "$$\n",
    "\n",
    "Com isso já é possível estimar o intervalo de confiança"
   ]
  },
  {
   "cell_type": "markdown",
   "metadata": {},
   "source": [
    "### Intervalos de confiança"
   ]
  },
  {
   "cell_type": "markdown",
   "metadata": {},
   "source": [
    "Você recebeu uma base com 110 registros referentes a uma pesquisa de satisfação feita pelo time de marketing. Ao analisar a média e o desvio padrão você chegou aos seguintes resultados:\n",
    "\n",
    "$\\bar{x}=76.7$ (média da amostra) \n",
    "\n",
    "$s=12.3$ (desvio padrão) \n",
    "\n",
    "$n=110$ (tamanho da amostra)\n",
    "\n",
    "Como são dados amostrais então novas pesquisas podem gerar novos resultados. \n",
    "\n",
    "Tendo isto em mente, estabeleça um intervaldo de confiança de 95% para a média real da população (neste caso usuários do produto ou serviço)"
   ]
  },
  {
   "cell_type": "code",
   "execution_count": 16,
   "metadata": {
    "ExecuteTime": {
     "end_time": "2021-04-18T17:00:42.387921Z",
     "start_time": "2021-04-18T17:00:42.376952Z"
    }
   },
   "outputs": [],
   "source": [
    "import math"
   ]
  },
  {
   "cell_type": "code",
   "execution_count": 17,
   "metadata": {
    "ExecuteTime": {
     "end_time": "2021-04-18T17:00:42.823625Z",
     "start_time": "2021-04-18T17:00:42.811658Z"
    }
   },
   "outputs": [
    {
     "name": "stdout",
     "output_type": "stream",
     "text": [
      "Temos 95% de confiança de que a satisfação está entre 74.40139238984673 78.99860761015327\n"
     ]
    }
   ],
   "source": [
    "x_bar = 76.7\n",
    "desvpad = 12.3\n",
    "n = 110\n",
    "z_critico = 1.960\n",
    "\n",
    "margem_erro = z_critico * (desvpad/math.sqrt(n))\n",
    "\n",
    "print('Temos 95% de confiança de que a satisfação está entre', x_bar-margem_erro, x_bar+margem_erro)\n"
   ]
  },
  {
   "cell_type": "code",
   "execution_count": null,
   "metadata": {},
   "outputs": [],
   "source": []
  }
 ],
 "metadata": {
  "kernelspec": {
   "display_name": "Python 3",
   "language": "python",
   "name": "python3"
  },
  "language_info": {
   "codemirror_mode": {
    "name": "ipython",
    "version": 3
   },
   "file_extension": ".py",
   "mimetype": "text/x-python",
   "name": "python",
   "nbconvert_exporter": "python",
   "pygments_lexer": "ipython3",
   "version": "3.8.5"
  },
  "varInspector": {
   "cols": {
    "lenName": 16,
    "lenType": 16,
    "lenVar": 40
   },
   "kernels_config": {
    "python": {
     "delete_cmd_postfix": "",
     "delete_cmd_prefix": "del ",
     "library": "var_list.py",
     "varRefreshCmd": "print(var_dic_list())"
    },
    "r": {
     "delete_cmd_postfix": ") ",
     "delete_cmd_prefix": "rm(",
     "library": "var_list.r",
     "varRefreshCmd": "cat(var_dic_list()) "
    }
   },
   "types_to_exclude": [
    "module",
    "function",
    "builtin_function_or_method",
    "instance",
    "_Feature"
   ],
   "window_display": false
  }
 },
 "nbformat": 4,
 "nbformat_minor": 4
}
