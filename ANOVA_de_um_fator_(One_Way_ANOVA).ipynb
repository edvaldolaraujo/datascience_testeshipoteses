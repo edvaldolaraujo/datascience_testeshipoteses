{
  "nbformat": 4,
  "nbformat_minor": 0,
  "metadata": {
    "colab": {
      "name": "ANOVA de um fator (One-Way ANOVA).ipynb",
      "provenance": [],
      "collapsed_sections": [],
      "mount_file_id": "12abflwz2TqqX3SlBrI4NCJjyOt5bUGxw",
      "authorship_tag": "ABX9TyP/FEsTbmH1QsG+o9Vvr+5t",
      "include_colab_link": true
    },
    "kernelspec": {
      "name": "python3",
      "display_name": "Python 3"
    },
    "language_info": {
      "name": "python"
    }
  },
  "cells": [
    {
      "cell_type": "markdown",
      "metadata": {
        "id": "view-in-github",
        "colab_type": "text"
      },
      "source": [
        "<a href=\"https://colab.research.google.com/github/edvaldolaraujo/datascience_testeshipoteses/blob/main/ANOVA_de_um_fator_(One_Way_ANOVA).ipynb\" target=\"_parent\"><img src=\"https://colab.research.google.com/assets/colab-badge.svg\" alt=\"Open In Colab\"/></a>"
      ]
    },
    {
      "cell_type": "markdown",
      "metadata": {
        "id": "AhYGjM1kQA53"
      },
      "source": [
        "# ANOVA de um fator (One-Way ANOVA)"
      ]
    },
    {
      "cell_type": "markdown",
      "metadata": {
        "id": "l7uDv8KQPgaY"
      },
      "source": [
        "## Introdução\n",
        "A Análise de Variância (ANOVA) é um teste utilizado para comparar médias de três ou mais populações, por meio da análise de variâncias amostrais. O teste se baseia em uma amostra extraída de cada população, com o intuito de determinar se as diferenças entre as médias amostrais sugerem diferenças significativas entre as médias populacionais, ou se tais diferenças são decorrentes apenas da variabilidade implícita da amostra.\n",
        "\n",
        "As suposições da ANOVA são:\n",
        "\n",
        "* as amostras devem ser independentes entre si;\n",
        "* os dados nas populações devem apresentar distribuição normal;\n",
        "* as variâncias populacionais devem ser homogêneas.\n",
        "\n",
        "A ANOVA de um fator, conhecida em inglês como **One-Way ANOVA**, é a extensão do teste t de Student para duas médias populacionais, o que permite ao pesquisador a comparação de três ou mais médias populacionais.\n",
        "\n",
        "A **hipótese nula (H0)** do teste afirma que as médias populacionais são iguais; se existir pelo menos um grupo com média diferente dos demais, a hipótese nula é rejeitada."
      ]
    },
    {
      "cell_type": "markdown",
      "metadata": {
        "id": "qJ56uETVr99c"
      },
      "source": [
        "## Carregando Pacotes"
      ]
    },
    {
      "cell_type": "code",
      "metadata": {
        "id": "pK4D5A1kqijK",
        "colab": {
          "base_uri": "https://localhost:8080/"
        },
        "outputId": "a02ccb96-1e83-46c3-bb7d-be73f6659717"
      },
      "source": [
        "%pip install pyreadstat"
      ],
      "execution_count": null,
      "outputs": [
        {
          "output_type": "stream",
          "name": "stdout",
          "text": [
            "Requirement already satisfied: pyreadstat in /usr/local/lib/python3.7/dist-packages (1.1.3)\n",
            "Requirement already satisfied: pandas>0.24.0 in /usr/local/lib/python3.7/dist-packages (from pyreadstat) (1.1.5)\n",
            "Requirement already satisfied: python-dateutil>=2.7.3 in /usr/local/lib/python3.7/dist-packages (from pandas>0.24.0->pyreadstat) (2.8.2)\n",
            "Requirement already satisfied: pytz>=2017.2 in /usr/local/lib/python3.7/dist-packages (from pandas>0.24.0->pyreadstat) (2018.9)\n",
            "Requirement already satisfied: numpy>=1.15.4 in /usr/local/lib/python3.7/dist-packages (from pandas>0.24.0->pyreadstat) (1.19.5)\n",
            "Requirement already satisfied: six>=1.5 in /usr/local/lib/python3.7/dist-packages (from python-dateutil>=2.7.3->pandas>0.24.0->pyreadstat) (1.15.0)\n"
          ]
        }
      ]
    },
    {
      "cell_type": "code",
      "metadata": {
        "id": "SF9-YTjwss5c",
        "colab": {
          "base_uri": "https://localhost:8080/"
        },
        "outputId": "c0bb93b2-761e-4243-b8fa-203cde6f4846"
      },
      "source": [
        "import pandas as pd\n",
        "import matplotlib.pyplot as plt\n",
        "from scipy import stats\n",
        "import statsmodels.stats.api as sms\n",
        "import numpy as np\n",
        "import math\n",
        "\n",
        "pd.options.display.float_format = \"{:,.2f}\".format\n",
        "\n",
        "CAMINHO = 'drive/MyDrive/Colab Notebooks/datasets/'\n"
      ],
      "execution_count": null,
      "outputs": [
        {
          "output_type": "stream",
          "name": "stderr",
          "text": [
            "/usr/local/lib/python3.7/dist-packages/statsmodels/tools/_testing.py:19: FutureWarning: pandas.util.testing is deprecated. Use the functions in the public API at pandas.testing instead.\n",
            "  import pandas.util.testing as tm\n"
          ]
        }
      ]
    },
    {
      "cell_type": "markdown",
      "metadata": {
        "id": "L4KY8pPBsw_0"
      },
      "source": [
        "## Carregando dados"
      ]
    },
    {
      "cell_type": "code",
      "metadata": {
        "id": "MxY69NCKsz8u",
        "colab": {
          "base_uri": "https://localhost:8080/",
          "height": 1000
        },
        "outputId": "91df73c5-0fb0-4044-c776-78dcb6561d57"
      },
      "source": [
        "base = pd.read_spss(CAMINHO+'ANOVA_Um_Fator.sav')\n",
        "base"
      ],
      "execution_count": null,
      "outputs": [
        {
          "output_type": "execute_result",
          "data": {
            "text/html": [
              "<div>\n",
              "<style scoped>\n",
              "    .dataframe tbody tr th:only-of-type {\n",
              "        vertical-align: middle;\n",
              "    }\n",
              "\n",
              "    .dataframe tbody tr th {\n",
              "        vertical-align: top;\n",
              "    }\n",
              "\n",
              "    .dataframe thead th {\n",
              "        text-align: right;\n",
              "    }\n",
              "</style>\n",
              "<table border=\"1\" class=\"dataframe\">\n",
              "  <thead>\n",
              "    <tr style=\"text-align: right;\">\n",
              "      <th></th>\n",
              "      <th>Fornecedor</th>\n",
              "      <th>Sacarose</th>\n",
              "    </tr>\n",
              "  </thead>\n",
              "  <tbody>\n",
              "    <tr>\n",
              "      <th>0</th>\n",
              "      <td>1.00</td>\n",
              "      <td>0.33</td>\n",
              "    </tr>\n",
              "    <tr>\n",
              "      <th>1</th>\n",
              "      <td>1.00</td>\n",
              "      <td>0.79</td>\n",
              "    </tr>\n",
              "    <tr>\n",
              "      <th>2</th>\n",
              "      <td>1.00</td>\n",
              "      <td>1.24</td>\n",
              "    </tr>\n",
              "    <tr>\n",
              "      <th>3</th>\n",
              "      <td>1.00</td>\n",
              "      <td>1.75</td>\n",
              "    </tr>\n",
              "    <tr>\n",
              "      <th>4</th>\n",
              "      <td>1.00</td>\n",
              "      <td>0.94</td>\n",
              "    </tr>\n",
              "    <tr>\n",
              "      <th>5</th>\n",
              "      <td>1.00</td>\n",
              "      <td>2.42</td>\n",
              "    </tr>\n",
              "    <tr>\n",
              "      <th>6</th>\n",
              "      <td>1.00</td>\n",
              "      <td>1.97</td>\n",
              "    </tr>\n",
              "    <tr>\n",
              "      <th>7</th>\n",
              "      <td>1.00</td>\n",
              "      <td>0.87</td>\n",
              "    </tr>\n",
              "    <tr>\n",
              "      <th>8</th>\n",
              "      <td>1.00</td>\n",
              "      <td>0.33</td>\n",
              "    </tr>\n",
              "    <tr>\n",
              "      <th>9</th>\n",
              "      <td>1.00</td>\n",
              "      <td>0.79</td>\n",
              "    </tr>\n",
              "    <tr>\n",
              "      <th>10</th>\n",
              "      <td>1.00</td>\n",
              "      <td>1.24</td>\n",
              "    </tr>\n",
              "    <tr>\n",
              "      <th>11</th>\n",
              "      <td>1.00</td>\n",
              "      <td>3.12</td>\n",
              "    </tr>\n",
              "    <tr>\n",
              "      <th>12</th>\n",
              "      <td>2.00</td>\n",
              "      <td>1.54</td>\n",
              "    </tr>\n",
              "    <tr>\n",
              "      <th>13</th>\n",
              "      <td>2.00</td>\n",
              "      <td>1.11</td>\n",
              "    </tr>\n",
              "    <tr>\n",
              "      <th>14</th>\n",
              "      <td>2.00</td>\n",
              "      <td>0.97</td>\n",
              "    </tr>\n",
              "    <tr>\n",
              "      <th>15</th>\n",
              "      <td>2.00</td>\n",
              "      <td>2.57</td>\n",
              "    </tr>\n",
              "    <tr>\n",
              "      <th>16</th>\n",
              "      <td>2.00</td>\n",
              "      <td>2.94</td>\n",
              "    </tr>\n",
              "    <tr>\n",
              "      <th>17</th>\n",
              "      <td>2.00</td>\n",
              "      <td>3.44</td>\n",
              "    </tr>\n",
              "    <tr>\n",
              "      <th>18</th>\n",
              "      <td>2.00</td>\n",
              "      <td>3.02</td>\n",
              "    </tr>\n",
              "    <tr>\n",
              "      <th>19</th>\n",
              "      <td>2.00</td>\n",
              "      <td>3.55</td>\n",
              "    </tr>\n",
              "    <tr>\n",
              "      <th>20</th>\n",
              "      <td>2.00</td>\n",
              "      <td>2.04</td>\n",
              "    </tr>\n",
              "    <tr>\n",
              "      <th>21</th>\n",
              "      <td>2.00</td>\n",
              "      <td>1.67</td>\n",
              "    </tr>\n",
              "    <tr>\n",
              "      <th>22</th>\n",
              "      <td>3.00</td>\n",
              "      <td>1.47</td>\n",
              "    </tr>\n",
              "    <tr>\n",
              "      <th>23</th>\n",
              "      <td>3.00</td>\n",
              "      <td>1.69</td>\n",
              "    </tr>\n",
              "    <tr>\n",
              "      <th>24</th>\n",
              "      <td>3.00</td>\n",
              "      <td>1.55</td>\n",
              "    </tr>\n",
              "    <tr>\n",
              "      <th>25</th>\n",
              "      <td>3.00</td>\n",
              "      <td>2.04</td>\n",
              "    </tr>\n",
              "    <tr>\n",
              "      <th>26</th>\n",
              "      <td>3.00</td>\n",
              "      <td>2.67</td>\n",
              "    </tr>\n",
              "    <tr>\n",
              "      <th>27</th>\n",
              "      <td>3.00</td>\n",
              "      <td>3.07</td>\n",
              "    </tr>\n",
              "    <tr>\n",
              "      <th>28</th>\n",
              "      <td>3.00</td>\n",
              "      <td>3.33</td>\n",
              "    </tr>\n",
              "    <tr>\n",
              "      <th>29</th>\n",
              "      <td>3.00</td>\n",
              "      <td>4.01</td>\n",
              "    </tr>\n",
              "    <tr>\n",
              "      <th>30</th>\n",
              "      <td>3.00</td>\n",
              "      <td>1.52</td>\n",
              "    </tr>\n",
              "    <tr>\n",
              "      <th>31</th>\n",
              "      <td>3.00</td>\n",
              "      <td>2.03</td>\n",
              "    </tr>\n",
              "  </tbody>\n",
              "</table>\n",
              "</div>"
            ],
            "text/plain": [
              "    Fornecedor  Sacarose\n",
              "0         1.00      0.33\n",
              "1         1.00      0.79\n",
              "2         1.00      1.24\n",
              "3         1.00      1.75\n",
              "4         1.00      0.94\n",
              "5         1.00      2.42\n",
              "6         1.00      1.97\n",
              "7         1.00      0.87\n",
              "8         1.00      0.33\n",
              "9         1.00      0.79\n",
              "10        1.00      1.24\n",
              "11        1.00      3.12\n",
              "12        2.00      1.54\n",
              "13        2.00      1.11\n",
              "14        2.00      0.97\n",
              "15        2.00      2.57\n",
              "16        2.00      2.94\n",
              "17        2.00      3.44\n",
              "18        2.00      3.02\n",
              "19        2.00      3.55\n",
              "20        2.00      2.04\n",
              "21        2.00      1.67\n",
              "22        3.00      1.47\n",
              "23        3.00      1.69\n",
              "24        3.00      1.55\n",
              "25        3.00      2.04\n",
              "26        3.00      2.67\n",
              "27        3.00      3.07\n",
              "28        3.00      3.33\n",
              "29        3.00      4.01\n",
              "30        3.00      1.52\n",
              "31        3.00      2.03"
            ]
          },
          "metadata": {},
          "execution_count": 8
        }
      ]
    },
    {
      "cell_type": "markdown",
      "metadata": {
        "id": "RPINY9tzs9tP"
      },
      "source": [
        "## Análise Exploratória"
      ]
    },
    {
      "cell_type": "code",
      "metadata": {
        "id": "PCbcHKPktCE7"
      },
      "source": [
        "Fornec_1 = base.loc[base['Fornecedor'] == 1].drop('Fornecedor', axis=1)\n",
        "Fornec_2 = base.loc[base['Fornecedor'] == 2].drop('Fornecedor', axis=1)\n",
        "Fornec_3 = base.loc[base['Fornecedor'] == 3].drop('Fornecedor', axis=1)"
      ],
      "execution_count": null,
      "outputs": []
    },
    {
      "cell_type": "code",
      "metadata": {
        "colab": {
          "base_uri": "https://localhost:8080/",
          "height": 283
        },
        "id": "5771RMRVtB5l",
        "outputId": "f2016d13-c5c0-4a7d-ba93-cf7825b51e03"
      },
      "source": [
        "Fornec_1.boxplot('Sacarose')"
      ],
      "execution_count": null,
      "outputs": [
        {
          "output_type": "execute_result",
          "data": {
            "text/plain": [
              "<matplotlib.axes._subplots.AxesSubplot at 0x7f67a4ac4d90>"
            ]
          },
          "metadata": {},
          "execution_count": 11
        },
        {
          "output_type": "display_data",
          "data": {
            "image/png": "[encoded data removed]",
            "text/plain": [
              "<Figure size 432x288 with 1 Axes>"
            ]
          },
          "metadata": {
            "needs_background": "light"
          }
        }
      ]
    },
    {
      "cell_type": "code",
      "metadata": {
        "colab": {
          "base_uri": "https://localhost:8080/",
          "height": 318
        },
        "id": "QRJBQADKwvDZ",
        "outputId": "0fb2ca7a-84d4-421a-fd9b-4e108a088506"
      },
      "source": [
        "plt.hist(Fornec_1['Sacarose'], density=True, bins=5)"
      ],
      "execution_count": null,
      "outputs": [
        {
          "output_type": "execute_result",
          "data": {
            "text/plain": [
              "(array([0.74671446, 0.44802867, 0.29868578, 0.14934289, 0.14934289]),\n",
              " array([0.33 , 0.888, 1.446, 2.004, 2.562, 3.12 ]),\n",
              " <a list of 5 Patch objects>)"
            ]
          },
          "metadata": {},
          "execution_count": 12
        },
        {
          "output_type": "display_data",
          "data": {
            "image/png": "[encoded data removed]",
            "text/plain": [
              "<Figure size 432x288 with 1 Axes>"
            ]
          },
          "metadata": {
            "needs_background": "light"
          }
        }
      ]
    },
    {
      "cell_type": "code",
      "metadata": {
        "colab": {
          "base_uri": "https://localhost:8080/",
          "height": 401
        },
        "id": "PYlZmBRZxBQ-",
        "outputId": "5cb7b506-a807-4a38-e0e7-66f56a1a8625"
      },
      "source": [
        "stats.probplot(Fornec_1['Sacarose'], plot=plt)"
      ],
      "execution_count": null,
      "outputs": [
        {
          "output_type": "execute_result",
          "data": {
            "text/plain": [
              "((array([-1.58815464, -1.09814975, -0.78255927, -0.53069113, -0.30892353,\n",
              "         -0.101534  ,  0.101534  ,  0.30892353,  0.53069113,  0.78255927,\n",
              "          1.09814975,  1.58815464]),\n",
              "  array([0.33, 0.33, 0.79, 0.79, 0.87, 0.94, 1.24, 1.24, 1.75, 1.97, 2.42,\n",
              "         3.12])),\n",
              " (0.8781545913805932, 1.3158333333333336, 0.9583897360358526))"
            ]
          },
          "metadata": {},
          "execution_count": 13
        },
        {
          "output_type": "display_data",
          "data": {
            "image/png": "[encoded data removed]",
            "text/plain": [
              "<Figure size 432x288 with 1 Axes>"
            ]
          },
          "metadata": {
            "needs_background": "light"
          }
        }
      ]
    },
    {
      "cell_type": "markdown",
      "metadata": {
        "id": "I8PqDS7zxNyd"
      },
      "source": [
        "## Teste Shapiro-Wilk"
      ]
    },
    {
      "cell_type": "code",
      "metadata": {
        "colab": {
          "base_uri": "https://localhost:8080/"
        },
        "id": "o0IiFj38xa33",
        "outputId": "01ed9091-f6af-4b40-d397-5b8580a817a2"
      },
      "source": [
        "sw_test, p = stats.shapiro(Fornec_1['Sacarose'])\n",
        "if (p>0.05):\n",
        "    print(sw_test,p, 'Não rejeitar H0')\n",
        "else:\n",
        "    print(sw_test,p, 'Rejeitar H0')"
      ],
      "execution_count": null,
      "outputs": [
        {
          "output_type": "stream",
          "name": "stdout",
          "text": [
            "0.9148621559143066 0.24615293741226196 Não rejeitar H0\n"
          ]
        }
      ]
    },
    {
      "cell_type": "markdown",
      "metadata": {
        "id": "fhnqlawYx64B"
      },
      "source": [
        "como pvalue (ou P-Valor) é maior que 0.05 então a hipótese nula (H0) não é rejeitada. O que permite concluir, ao nível de confiança de 95%, que a amostra é obtida de uma população com distribuição normal. "
      ]
    },
    {
      "cell_type": "code",
      "metadata": {
        "colab": {
          "base_uri": "https://localhost:8080/"
        },
        "id": "WZyGlvhjx_ZS",
        "outputId": "535f1e74-7c8b-457a-ee8e-20da66bd5184"
      },
      "source": [
        "sw_test, p = stats.shapiro(Fornec_2['Sacarose'])\n",
        "if (p>0.05):\n",
        "    print(sw_test,p, 'Não rejeitar H0')\n",
        "else:\n",
        "    print(sw_test,p, 'Rejeitar H0')"
      ],
      "execution_count": null,
      "outputs": [
        {
          "output_type": "stream",
          "name": "stdout",
          "text": [
            "0.9290102124214172 0.4382273554801941 Não rejeitar H0\n"
          ]
        }
      ]
    },
    {
      "cell_type": "markdown",
      "metadata": {
        "id": "S3dI3iMWyF7Q"
      },
      "source": [
        "como pvalue (ou P-Valor) é maior que 0.05 então a hipótese nula (H0) não é rejeitada. O que permite concluir, ao nível de confiança de 95%, que a amostra é obtida de uma população com distribuição normal. "
      ]
    },
    {
      "cell_type": "code",
      "metadata": {
        "colab": {
          "base_uri": "https://localhost:8080/"
        },
        "id": "LsqjX9O5AGmC",
        "outputId": "2224d1bd-8e2b-42df-a329-239d450fceab"
      },
      "source": [
        "sw_test, p = stats.shapiro(Fornec_3['Sacarose'])\n",
        "if (p>0.05):\n",
        "    print(sw_test,p, 'Não rejeitar H0')\n",
        "else:\n",
        "    print(sw_test,p, 'Rejeitar H0')"
      ],
      "execution_count": null,
      "outputs": [
        {
          "output_type": "stream",
          "name": "stdout",
          "text": [
            "0.8831188678741455 0.14167983829975128 Não rejeitar H0\n"
          ]
        }
      ]
    },
    {
      "cell_type": "markdown",
      "metadata": {
        "id": "FYQg3Wq8zW5d"
      },
      "source": [
        "## Teste F de Levene"
      ]
    },
    {
      "cell_type": "code",
      "metadata": {
        "colab": {
          "base_uri": "https://localhost:8080/"
        },
        "id": "oaLVlgDNzZ3W",
        "outputId": "0f2e6ad2-f21d-488a-fe9d-06fbdcfa8909"
      },
      "source": [
        "teste, p = stats.levene(Fornec_1['Sacarose'], Fornec_2['Sacarose'], Fornec_3['Sacarose'] )\n",
        "if p>0.05:\n",
        "    print(teste, p, 'Não Rejeitar H0!!!')\n",
        "else:\n",
        "    print(teste, p, 'Rejeitar H0!!!')\n",
        "print()"
      ],
      "execution_count": null,
      "outputs": [
        {
          "output_type": "stream",
          "name": "stdout",
          "text": [
            "0.3181979846892983 0.7299663375834846 Não Rejeitar H0!!!\n",
            "\n"
          ]
        }
      ]
    },
    {
      "cell_type": "markdown",
      "metadata": {
        "id": "iHBzflutzq-v"
      },
      "source": [
        "como pvalue (ou P-Valor) é maior que 0.05 então a hipótese nula (H0) não é rejeitada. O que permite concluir, ao nível de confiança de 95%, que as amostras são homogêneas. "
      ]
    },
    {
      "cell_type": "markdown",
      "metadata": {
        "id": "2Rc8diX0tXXN"
      },
      "source": [
        "## Teste Anova Two-Way"
      ]
    },
    {
      "cell_type": "code",
      "metadata": {
        "id": "SSyt1w-DtVt2",
        "colab": {
          "base_uri": "https://localhost:8080/"
        },
        "outputId": "e1ac12f1-4e04-4b6b-9717-cdf2c276b148"
      },
      "source": [
        "teste, p = stats.f_oneway(Fornec_1['Sacarose'], Fornec_2['Sacarose'], Fornec_3['Sacarose'] )\n",
        "\n",
        "if p>0.05:\n",
        "    print(teste, p, 'Não Rejeitar H0')\n",
        "else:\n",
        "    print(teste, p,'Rejeitar H0')"
      ],
      "execution_count": null,
      "outputs": [
        {
          "output_type": "stream",
          "name": "stdout",
          "text": [
            "4.675996744085605 0.017371839041354833 Rejeitar H0\n"
          ]
        }
      ]
    },
    {
      "cell_type": "markdown",
      "metadata": {
        "id": "aCc2CCidR9vS"
      },
      "source": [
        "## Conclusão\n",
        "como pvalue (ou P-Valor) é menor ou igual  a 0.05 então a hipótese nula (H0)  é rejeitada.\n",
        "\n",
        "o que nos permite concluir, ao nível de confiança de 95%, que existe pelo menos um fornecedor com média populacional diferente dos demais  "
      ]
    }
  ]
}